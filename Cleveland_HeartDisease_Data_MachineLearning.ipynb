{
 "cells": [
  {
   "cell_type": "markdown",
   "id": "d0ab9e98",
   "metadata": {},
   "source": [
    "## Machine Learning: Cleaveland Heart Disease Data"
   ]
  },
  {
   "cell_type": "markdown",
   "id": "3cea7ecc",
   "metadata": {},
   "source": [
    "**Author:\n",
    "<br> Md. Tariqul Islam\n",
    "<br> B.Sc. Civil Engg. (KUET)**"
   ]
  },
  {
   "cell_type": "markdown",
   "id": "53938e4f",
   "metadata": {},
   "source": [
    "In this notebook, we are working on part of the [Heart Disease Data Set](https://archive.ics.uci.edu/ml/datasets/heart+disease) data collection from the [UCI Machine Learning Repository](https://archive.ics.uci.edu/ml/index.php). The complete collection consists of four individual databases collected from four different institutions located in Cleveland, Hungary, Switzerland, and the VA Long Beach.\n",
    "\n",
    "Each of the datasets in the collection are present as more than one formats - Raw data and processed data. There are also reprocessed datasets for some instances. The raw datasets consist of unprocessed, unfiltered data whereas the processed versions of the same datasets consist of information processed and filtered specifically for machine learning purposes.\n",
    "\n",
    "We will be using the processed version of the *Cleveland Dataset* from the aforementioned collection. The direct link to the dataset is: (https://archive.ics.uci.edu/ml/machine-learning-databases/heart-disease/processed.cleveland.data)"
   ]
  },
  {
   "cell_type": "markdown",
   "id": "d37bfcec",
   "metadata": {},
   "source": [
    "Our goal is to perform machine learning on this dataset using a Decision Tree algorithm to find out whether a patient has heart disease or not. The whole process is explained below step-by-step."
   ]
  },
  {
   "cell_type": "markdown",
   "id": "654f58e2",
   "metadata": {},
   "source": [
    "### Import Required Libraries"
   ]
  },
  {
   "cell_type": "markdown",
   "id": "c1266439",
   "metadata": {},
   "source": [
    "As mentioned above, we will be building a machine learning model based on our dataset. We will also create some visualizations from time to time in order to better understanding what is happening with our data and our model. Hence we will require the following libraries to be imported into our notebook.\n",
    "- `pandas` for data manipulation\n",
    "- `numpy` for numerical operations\n",
    "- Specific modules from `sklearn` as required for Machine Learning related\n",
    "- `matplotlib.pyplot` and `seaborn` for data visualization\n",
    "\n",
    "The following lines of codes will import the required libraries mentioned above."
   ]
  },
  {
   "cell_type": "code",
   "execution_count": 1,
   "id": "53776b77",
   "metadata": {},
   "outputs": [],
   "source": [
    "# Import Libraries for Data handling\n",
    "import pandas as pd\n",
    "\n",
    "# Import Libraries for Numerical Operations\n",
    "import numpy as np\n",
    "\n",
    "# Import Libraries for Machine Learning\n",
    "from sklearn.tree import DecisionTreeClassifier, plot_tree # For building and plotting a classification Tree\n",
    "from sklearn.model_selection import train_test_split # For splitting data into training and testing sets\n",
    "from sklearn.model_selection import cross_val_score # For Cross-Validation\n",
    "from sklearn.metrics import confusion_matrix, plot_confusion_matrix # To create and plot a confusion matrix\n",
    "from sklearn.metrics import classification_report # For generating the classification report\n",
    "from sklearn.metrics import roc_curve, roc_auc_score # For creating and displaying the ROC curve and AUC value\n",
    "\n",
    "# Import Libraries for Data Visualization\n",
    "import matplotlib.pyplot as plt\n",
    "import seaborn as sns"
   ]
  },
  {
   "cell_type": "markdown",
   "id": "b19ddbd2",
   "metadata": {},
   "source": [
    "### Import the Dataset"
   ]
  },
  {
   "cell_type": "markdown",
   "id": "3a193376",
   "metadata": {},
   "source": [
    "The next step will be importing our data into the notebook. The processed cleveland dataset, as mentioned above, is saved in our harddrive as `processed.cleveland.data`. We can use the `pandas.read_csv()` function to import this data in our notebook as a pandas dataframe object."
   ]
  },
  {
   "cell_type": "code",
   "execution_count": 2,
   "id": "28762bff",
   "metadata": {},
   "outputs": [],
   "source": [
    "# Import data from a CSV file\n",
    "df = pd.read_csv(\"processed.cleveland.data\")"
   ]
  },
  {
   "cell_type": "markdown",
   "id": "fac0ceed",
   "metadata": {},
   "source": [
    "### Explore the Data"
   ]
  },
  {
   "cell_type": "markdown",
   "id": "25dab0c4",
   "metadata": {},
   "source": [
    "It is a good practice to explore the newly imported data and get familiar with every aspects of the dataset before diving into any further operations. Spending a little extra time to understand the data in hand is always helpful in the long run for any data analysis and machine learning related tasks."
   ]
  },
  {
   "cell_type": "markdown",
   "id": "b1c76a76",
   "metadata": {},
   "source": [
    "The simplest way of getting a good look at our data is to display the dataframe using the `display()` comamand. We will use the `dataframe.head()` method with an argument value of 10 to display only the first 10 rows of the dataframe. We will also display the dataframe shape using the `dataframe.shape` attribute to get an understanding of the number of features and observations present in the dataset."
   ]
  },
  {
   "cell_type": "code",
   "execution_count": 3,
   "id": "6910a7c1",
   "metadata": {
    "scrolled": true
   },
   "outputs": [
    {
     "data": {
      "text/html": [
       "<div>\n",
       "<style scoped>\n",
       "    .dataframe tbody tr th:only-of-type {\n",
       "        vertical-align: middle;\n",
       "    }\n",
       "\n",
       "    .dataframe tbody tr th {\n",
       "        vertical-align: top;\n",
       "    }\n",
       "\n",
       "    .dataframe thead th {\n",
       "        text-align: right;\n",
       "    }\n",
       "</style>\n",
       "<table border=\"1\" class=\"dataframe\">\n",
       "  <thead>\n",
       "    <tr style=\"text-align: right;\">\n",
       "      <th></th>\n",
       "      <th>63.0</th>\n",
       "      <th>1.0</th>\n",
       "      <th>1.0.1</th>\n",
       "      <th>145.0</th>\n",
       "      <th>233.0</th>\n",
       "      <th>1.0.2</th>\n",
       "      <th>2.0</th>\n",
       "      <th>150.0</th>\n",
       "      <th>0.0</th>\n",
       "      <th>2.3</th>\n",
       "      <th>3.0</th>\n",
       "      <th>0.0.1</th>\n",
       "      <th>6.0</th>\n",
       "      <th>0</th>\n",
       "    </tr>\n",
       "  </thead>\n",
       "  <tbody>\n",
       "    <tr>\n",
       "      <th>0</th>\n",
       "      <td>67.0</td>\n",
       "      <td>1.0</td>\n",
       "      <td>4.0</td>\n",
       "      <td>160.0</td>\n",
       "      <td>286.0</td>\n",
       "      <td>0.0</td>\n",
       "      <td>2.0</td>\n",
       "      <td>108.0</td>\n",
       "      <td>1.0</td>\n",
       "      <td>1.5</td>\n",
       "      <td>2.0</td>\n",
       "      <td>3.0</td>\n",
       "      <td>3.0</td>\n",
       "      <td>2</td>\n",
       "    </tr>\n",
       "    <tr>\n",
       "      <th>1</th>\n",
       "      <td>67.0</td>\n",
       "      <td>1.0</td>\n",
       "      <td>4.0</td>\n",
       "      <td>120.0</td>\n",
       "      <td>229.0</td>\n",
       "      <td>0.0</td>\n",
       "      <td>2.0</td>\n",
       "      <td>129.0</td>\n",
       "      <td>1.0</td>\n",
       "      <td>2.6</td>\n",
       "      <td>2.0</td>\n",
       "      <td>2.0</td>\n",
       "      <td>7.0</td>\n",
       "      <td>1</td>\n",
       "    </tr>\n",
       "    <tr>\n",
       "      <th>2</th>\n",
       "      <td>37.0</td>\n",
       "      <td>1.0</td>\n",
       "      <td>3.0</td>\n",
       "      <td>130.0</td>\n",
       "      <td>250.0</td>\n",
       "      <td>0.0</td>\n",
       "      <td>0.0</td>\n",
       "      <td>187.0</td>\n",
       "      <td>0.0</td>\n",
       "      <td>3.5</td>\n",
       "      <td>3.0</td>\n",
       "      <td>0.0</td>\n",
       "      <td>3.0</td>\n",
       "      <td>0</td>\n",
       "    </tr>\n",
       "    <tr>\n",
       "      <th>3</th>\n",
       "      <td>41.0</td>\n",
       "      <td>0.0</td>\n",
       "      <td>2.0</td>\n",
       "      <td>130.0</td>\n",
       "      <td>204.0</td>\n",
       "      <td>0.0</td>\n",
       "      <td>2.0</td>\n",
       "      <td>172.0</td>\n",
       "      <td>0.0</td>\n",
       "      <td>1.4</td>\n",
       "      <td>1.0</td>\n",
       "      <td>0.0</td>\n",
       "      <td>3.0</td>\n",
       "      <td>0</td>\n",
       "    </tr>\n",
       "    <tr>\n",
       "      <th>4</th>\n",
       "      <td>56.0</td>\n",
       "      <td>1.0</td>\n",
       "      <td>2.0</td>\n",
       "      <td>120.0</td>\n",
       "      <td>236.0</td>\n",
       "      <td>0.0</td>\n",
       "      <td>0.0</td>\n",
       "      <td>178.0</td>\n",
       "      <td>0.0</td>\n",
       "      <td>0.8</td>\n",
       "      <td>1.0</td>\n",
       "      <td>0.0</td>\n",
       "      <td>3.0</td>\n",
       "      <td>0</td>\n",
       "    </tr>\n",
       "    <tr>\n",
       "      <th>5</th>\n",
       "      <td>62.0</td>\n",
       "      <td>0.0</td>\n",
       "      <td>4.0</td>\n",
       "      <td>140.0</td>\n",
       "      <td>268.0</td>\n",
       "      <td>0.0</td>\n",
       "      <td>2.0</td>\n",
       "      <td>160.0</td>\n",
       "      <td>0.0</td>\n",
       "      <td>3.6</td>\n",
       "      <td>3.0</td>\n",
       "      <td>2.0</td>\n",
       "      <td>3.0</td>\n",
       "      <td>3</td>\n",
       "    </tr>\n",
       "    <tr>\n",
       "      <th>6</th>\n",
       "      <td>57.0</td>\n",
       "      <td>0.0</td>\n",
       "      <td>4.0</td>\n",
       "      <td>120.0</td>\n",
       "      <td>354.0</td>\n",
       "      <td>0.0</td>\n",
       "      <td>0.0</td>\n",
       "      <td>163.0</td>\n",
       "      <td>1.0</td>\n",
       "      <td>0.6</td>\n",
       "      <td>1.0</td>\n",
       "      <td>0.0</td>\n",
       "      <td>3.0</td>\n",
       "      <td>0</td>\n",
       "    </tr>\n",
       "    <tr>\n",
       "      <th>7</th>\n",
       "      <td>63.0</td>\n",
       "      <td>1.0</td>\n",
       "      <td>4.0</td>\n",
       "      <td>130.0</td>\n",
       "      <td>254.0</td>\n",
       "      <td>0.0</td>\n",
       "      <td>2.0</td>\n",
       "      <td>147.0</td>\n",
       "      <td>0.0</td>\n",
       "      <td>1.4</td>\n",
       "      <td>2.0</td>\n",
       "      <td>1.0</td>\n",
       "      <td>7.0</td>\n",
       "      <td>2</td>\n",
       "    </tr>\n",
       "    <tr>\n",
       "      <th>8</th>\n",
       "      <td>53.0</td>\n",
       "      <td>1.0</td>\n",
       "      <td>4.0</td>\n",
       "      <td>140.0</td>\n",
       "      <td>203.0</td>\n",
       "      <td>1.0</td>\n",
       "      <td>2.0</td>\n",
       "      <td>155.0</td>\n",
       "      <td>1.0</td>\n",
       "      <td>3.1</td>\n",
       "      <td>3.0</td>\n",
       "      <td>0.0</td>\n",
       "      <td>7.0</td>\n",
       "      <td>1</td>\n",
       "    </tr>\n",
       "    <tr>\n",
       "      <th>9</th>\n",
       "      <td>57.0</td>\n",
       "      <td>1.0</td>\n",
       "      <td>4.0</td>\n",
       "      <td>140.0</td>\n",
       "      <td>192.0</td>\n",
       "      <td>0.0</td>\n",
       "      <td>0.0</td>\n",
       "      <td>148.0</td>\n",
       "      <td>0.0</td>\n",
       "      <td>0.4</td>\n",
       "      <td>2.0</td>\n",
       "      <td>0.0</td>\n",
       "      <td>6.0</td>\n",
       "      <td>0</td>\n",
       "    </tr>\n",
       "  </tbody>\n",
       "</table>\n",
       "</div>"
      ],
      "text/plain": [
       "   63.0  1.0  1.0.1  145.0  233.0  1.0.2  2.0  150.0  0.0  2.3  3.0 0.0.1  \\\n",
       "0  67.0  1.0    4.0  160.0  286.0    0.0  2.0  108.0  1.0  1.5  2.0   3.0   \n",
       "1  67.0  1.0    4.0  120.0  229.0    0.0  2.0  129.0  1.0  2.6  2.0   2.0   \n",
       "2  37.0  1.0    3.0  130.0  250.0    0.0  0.0  187.0  0.0  3.5  3.0   0.0   \n",
       "3  41.0  0.0    2.0  130.0  204.0    0.0  2.0  172.0  0.0  1.4  1.0   0.0   \n",
       "4  56.0  1.0    2.0  120.0  236.0    0.0  0.0  178.0  0.0  0.8  1.0   0.0   \n",
       "5  62.0  0.0    4.0  140.0  268.0    0.0  2.0  160.0  0.0  3.6  3.0   2.0   \n",
       "6  57.0  0.0    4.0  120.0  354.0    0.0  0.0  163.0  1.0  0.6  1.0   0.0   \n",
       "7  63.0  1.0    4.0  130.0  254.0    0.0  2.0  147.0  0.0  1.4  2.0   1.0   \n",
       "8  53.0  1.0    4.0  140.0  203.0    1.0  2.0  155.0  1.0  3.1  3.0   0.0   \n",
       "9  57.0  1.0    4.0  140.0  192.0    0.0  0.0  148.0  0.0  0.4  2.0   0.0   \n",
       "\n",
       "   6.0  0  \n",
       "0  3.0  2  \n",
       "1  7.0  1  \n",
       "2  3.0  0  \n",
       "3  3.0  0  \n",
       "4  3.0  0  \n",
       "5  3.0  3  \n",
       "6  3.0  0  \n",
       "7  7.0  2  \n",
       "8  7.0  1  \n",
       "9  6.0  0  "
      ]
     },
     "metadata": {},
     "output_type": "display_data"
    },
    {
     "data": {
      "text/plain": [
       "(302, 14)"
      ]
     },
     "metadata": {},
     "output_type": "display_data"
    }
   ],
   "source": [
    "# Display the dataframe data\n",
    "display(df.head(10))\n",
    "# Display Dataframe shape\n",
    "display(df.shape)"
   ]
  },
  {
   "cell_type": "markdown",
   "id": "3b5faf02",
   "metadata": {},
   "source": [
    "We can see the first 10 rows of our dataset along with the shape of the dataframe at bottom. But we can readily see that there is something wrong with our dataset.\n",
    "\n",
    "If we look at the column names for our dataframe, we can see that each column is named with some numeric values instead of a specific column name. That's not much of a problem. The actual problem is that, upon close observations, we will see that the names of the columns are not actually column names, instead they are just the values from an observation row, being treated as the dataset header."
   ]
  },
  {
   "cell_type": "markdown",
   "id": "cc0806d0",
   "metadata": {},
   "source": [
    "We can further verify this issue by looking at the dataset description at the source page. As we go through the data description given in the source page, we cannot find any information regarding the column headers there. But it is given as a summary at the top of the page that **the dataset contains a total of 303 observations**.\n",
    "\n",
    "If we check the shape of our dataframe displayed above, we can see that our dataframe is currently containing only 302 observations. Thus we can be sure that **the column names being displayed in the dataframe above are actually values from an observation row**. In fact, pandas is considering the first row present in the dataset being imported as the dataset header and treating the values as column names."
   ]
  },
  {
   "cell_type": "markdown",
   "id": "55039932",
   "metadata": {},
   "source": [
    "To prevent pandas from treating the first row of data as column names, we will use the `header` argument available in the `pandas.read_csv()` function and set its value to `None`. So the corrected version of the above lines of code will be as follows."
   ]
  },
  {
   "cell_type": "code",
   "execution_count": 4,
   "id": "88493f8d",
   "metadata": {},
   "outputs": [
    {
     "data": {
      "text/html": [
       "<div>\n",
       "<style scoped>\n",
       "    .dataframe tbody tr th:only-of-type {\n",
       "        vertical-align: middle;\n",
       "    }\n",
       "\n",
       "    .dataframe tbody tr th {\n",
       "        vertical-align: top;\n",
       "    }\n",
       "\n",
       "    .dataframe thead th {\n",
       "        text-align: right;\n",
       "    }\n",
       "</style>\n",
       "<table border=\"1\" class=\"dataframe\">\n",
       "  <thead>\n",
       "    <tr style=\"text-align: right;\">\n",
       "      <th></th>\n",
       "      <th>0</th>\n",
       "      <th>1</th>\n",
       "      <th>2</th>\n",
       "      <th>3</th>\n",
       "      <th>4</th>\n",
       "      <th>5</th>\n",
       "      <th>6</th>\n",
       "      <th>7</th>\n",
       "      <th>8</th>\n",
       "      <th>9</th>\n",
       "      <th>10</th>\n",
       "      <th>11</th>\n",
       "      <th>12</th>\n",
       "      <th>13</th>\n",
       "    </tr>\n",
       "  </thead>\n",
       "  <tbody>\n",
       "    <tr>\n",
       "      <th>0</th>\n",
       "      <td>63.0</td>\n",
       "      <td>1.0</td>\n",
       "      <td>1.0</td>\n",
       "      <td>145.0</td>\n",
       "      <td>233.0</td>\n",
       "      <td>1.0</td>\n",
       "      <td>2.0</td>\n",
       "      <td>150.0</td>\n",
       "      <td>0.0</td>\n",
       "      <td>2.3</td>\n",
       "      <td>3.0</td>\n",
       "      <td>0.0</td>\n",
       "      <td>6.0</td>\n",
       "      <td>0</td>\n",
       "    </tr>\n",
       "    <tr>\n",
       "      <th>1</th>\n",
       "      <td>67.0</td>\n",
       "      <td>1.0</td>\n",
       "      <td>4.0</td>\n",
       "      <td>160.0</td>\n",
       "      <td>286.0</td>\n",
       "      <td>0.0</td>\n",
       "      <td>2.0</td>\n",
       "      <td>108.0</td>\n",
       "      <td>1.0</td>\n",
       "      <td>1.5</td>\n",
       "      <td>2.0</td>\n",
       "      <td>3.0</td>\n",
       "      <td>3.0</td>\n",
       "      <td>2</td>\n",
       "    </tr>\n",
       "    <tr>\n",
       "      <th>2</th>\n",
       "      <td>67.0</td>\n",
       "      <td>1.0</td>\n",
       "      <td>4.0</td>\n",
       "      <td>120.0</td>\n",
       "      <td>229.0</td>\n",
       "      <td>0.0</td>\n",
       "      <td>2.0</td>\n",
       "      <td>129.0</td>\n",
       "      <td>1.0</td>\n",
       "      <td>2.6</td>\n",
       "      <td>2.0</td>\n",
       "      <td>2.0</td>\n",
       "      <td>7.0</td>\n",
       "      <td>1</td>\n",
       "    </tr>\n",
       "    <tr>\n",
       "      <th>3</th>\n",
       "      <td>37.0</td>\n",
       "      <td>1.0</td>\n",
       "      <td>3.0</td>\n",
       "      <td>130.0</td>\n",
       "      <td>250.0</td>\n",
       "      <td>0.0</td>\n",
       "      <td>0.0</td>\n",
       "      <td>187.0</td>\n",
       "      <td>0.0</td>\n",
       "      <td>3.5</td>\n",
       "      <td>3.0</td>\n",
       "      <td>0.0</td>\n",
       "      <td>3.0</td>\n",
       "      <td>0</td>\n",
       "    </tr>\n",
       "    <tr>\n",
       "      <th>4</th>\n",
       "      <td>41.0</td>\n",
       "      <td>0.0</td>\n",
       "      <td>2.0</td>\n",
       "      <td>130.0</td>\n",
       "      <td>204.0</td>\n",
       "      <td>0.0</td>\n",
       "      <td>2.0</td>\n",
       "      <td>172.0</td>\n",
       "      <td>0.0</td>\n",
       "      <td>1.4</td>\n",
       "      <td>1.0</td>\n",
       "      <td>0.0</td>\n",
       "      <td>3.0</td>\n",
       "      <td>0</td>\n",
       "    </tr>\n",
       "    <tr>\n",
       "      <th>5</th>\n",
       "      <td>56.0</td>\n",
       "      <td>1.0</td>\n",
       "      <td>2.0</td>\n",
       "      <td>120.0</td>\n",
       "      <td>236.0</td>\n",
       "      <td>0.0</td>\n",
       "      <td>0.0</td>\n",
       "      <td>178.0</td>\n",
       "      <td>0.0</td>\n",
       "      <td>0.8</td>\n",
       "      <td>1.0</td>\n",
       "      <td>0.0</td>\n",
       "      <td>3.0</td>\n",
       "      <td>0</td>\n",
       "    </tr>\n",
       "    <tr>\n",
       "      <th>6</th>\n",
       "      <td>62.0</td>\n",
       "      <td>0.0</td>\n",
       "      <td>4.0</td>\n",
       "      <td>140.0</td>\n",
       "      <td>268.0</td>\n",
       "      <td>0.0</td>\n",
       "      <td>2.0</td>\n",
       "      <td>160.0</td>\n",
       "      <td>0.0</td>\n",
       "      <td>3.6</td>\n",
       "      <td>3.0</td>\n",
       "      <td>2.0</td>\n",
       "      <td>3.0</td>\n",
       "      <td>3</td>\n",
       "    </tr>\n",
       "    <tr>\n",
       "      <th>7</th>\n",
       "      <td>57.0</td>\n",
       "      <td>0.0</td>\n",
       "      <td>4.0</td>\n",
       "      <td>120.0</td>\n",
       "      <td>354.0</td>\n",
       "      <td>0.0</td>\n",
       "      <td>0.0</td>\n",
       "      <td>163.0</td>\n",
       "      <td>1.0</td>\n",
       "      <td>0.6</td>\n",
       "      <td>1.0</td>\n",
       "      <td>0.0</td>\n",
       "      <td>3.0</td>\n",
       "      <td>0</td>\n",
       "    </tr>\n",
       "    <tr>\n",
       "      <th>8</th>\n",
       "      <td>63.0</td>\n",
       "      <td>1.0</td>\n",
       "      <td>4.0</td>\n",
       "      <td>130.0</td>\n",
       "      <td>254.0</td>\n",
       "      <td>0.0</td>\n",
       "      <td>2.0</td>\n",
       "      <td>147.0</td>\n",
       "      <td>0.0</td>\n",
       "      <td>1.4</td>\n",
       "      <td>2.0</td>\n",
       "      <td>1.0</td>\n",
       "      <td>7.0</td>\n",
       "      <td>2</td>\n",
       "    </tr>\n",
       "    <tr>\n",
       "      <th>9</th>\n",
       "      <td>53.0</td>\n",
       "      <td>1.0</td>\n",
       "      <td>4.0</td>\n",
       "      <td>140.0</td>\n",
       "      <td>203.0</td>\n",
       "      <td>1.0</td>\n",
       "      <td>2.0</td>\n",
       "      <td>155.0</td>\n",
       "      <td>1.0</td>\n",
       "      <td>3.1</td>\n",
       "      <td>3.0</td>\n",
       "      <td>0.0</td>\n",
       "      <td>7.0</td>\n",
       "      <td>1</td>\n",
       "    </tr>\n",
       "  </tbody>\n",
       "</table>\n",
       "</div>"
      ],
      "text/plain": [
       "     0    1    2      3      4    5    6      7    8    9    10   11   12  13\n",
       "0  63.0  1.0  1.0  145.0  233.0  1.0  2.0  150.0  0.0  2.3  3.0  0.0  6.0   0\n",
       "1  67.0  1.0  4.0  160.0  286.0  0.0  2.0  108.0  1.0  1.5  2.0  3.0  3.0   2\n",
       "2  67.0  1.0  4.0  120.0  229.0  0.0  2.0  129.0  1.0  2.6  2.0  2.0  7.0   1\n",
       "3  37.0  1.0  3.0  130.0  250.0  0.0  0.0  187.0  0.0  3.5  3.0  0.0  3.0   0\n",
       "4  41.0  0.0  2.0  130.0  204.0  0.0  2.0  172.0  0.0  1.4  1.0  0.0  3.0   0\n",
       "5  56.0  1.0  2.0  120.0  236.0  0.0  0.0  178.0  0.0  0.8  1.0  0.0  3.0   0\n",
       "6  62.0  0.0  4.0  140.0  268.0  0.0  2.0  160.0  0.0  3.6  3.0  2.0  3.0   3\n",
       "7  57.0  0.0  4.0  120.0  354.0  0.0  0.0  163.0  1.0  0.6  1.0  0.0  3.0   0\n",
       "8  63.0  1.0  4.0  130.0  254.0  0.0  2.0  147.0  0.0  1.4  2.0  1.0  7.0   2\n",
       "9  53.0  1.0  4.0  140.0  203.0  1.0  2.0  155.0  1.0  3.1  3.0  0.0  7.0   1"
      ]
     },
     "metadata": {},
     "output_type": "display_data"
    },
    {
     "data": {
      "text/plain": [
       "(303, 14)"
      ]
     },
     "metadata": {},
     "output_type": "display_data"
    }
   ],
   "source": [
    "# Import data from a CSV file with `header` set to `None`\n",
    "df = pd.read_csv(\"processed.cleveland.data\", header = None)\n",
    "\n",
    "# Display the dataframe data\n",
    "display(df.head(10))\n",
    "\n",
    "# Display Dataframe shape\n",
    "display(df.shape)"
   ]
  },
  {
   "cell_type": "markdown",
   "id": "c24e2d47",
   "metadata": {},
   "source": [
    "Now we can see that our column names have been replaced with integer numbers starting from 0, and the total number of observations present in the dataframe is 303, same as the number mentioned in the dataset source page."
   ]
  },
  {
   "cell_type": "markdown",
   "id": "c68899e2",
   "metadata": {},
   "source": [
    "The shape of the dataframe displayed above indicates that our dataset contains a total of 14 features and 303 observations."
   ]
  },
  {
   "cell_type": "markdown",
   "id": "72099224",
   "metadata": {},
   "source": [
    "### Dealing with the Column Names"
   ]
  },
  {
   "cell_type": "markdown",
   "id": "254c1c52",
   "metadata": {},
   "source": [
    "Right now, the column names, or feature names, in our dataframe are set to integer numbers starting from 0 uptoto 13. These numbers do not give any idea about the data contained in the columns. Before proceeding with any data cleaning or machine learning operations, it is a good idea to rename the dataframe columns appropriately to represent the feature contained in the columns."
   ]
  },
  {
   "cell_type": "markdown",
   "id": "e29ce2dc",
   "metadata": {},
   "source": [
    "If we go through the dataset [source page](https://archive.ics.uci.edu/ml/datasets/heart+disease), we will see that the names of the features contained in this dataset are listed under the *Attribute Information* section, and the description of those features are also given just below that section."
   ]
  },
  {
   "cell_type": "markdown",
   "id": "2fea6fee",
   "metadata": {},
   "source": [
    "After goingh through the descriptions given in the source page, we can identify and rename our dataframe columns as listed below."
   ]
  },
  {
   "cell_type": "markdown",
   "id": "72ba7c4b",
   "metadata": {},
   "source": [
    "- 0: **age** - The age of the patient, in years\n",
    "- 1: **sex** - The sex/gender of the patient, represented as\n",
    "        - 0 = female\n",
    "        - 1 = male\n",
    "- 2: **chestPain** - Type of Chest Pain present in the patient, represented as\n",
    "        - 1 = typical angina\n",
    "        - 2 = atypical angina\n",
    "        - 3 = non-anginal pain\n",
    "        - 4 = asymptomatic\n",
    "- 3: **restingBP** - Resting blood pressure of the patient, in mmHg, during admission to the hospital\n",
    "- 4: **cholestoral** - Serum cholestoral content of the patient, in mg/dl\n",
    "- 5: **fastingBloodSugar** - Whether or not the Fasting Blood Sugar (FBS) of the patient is > 120 mg/dl, represented as\n",
    "        - 0 = false\n",
    "        - 1 = true\n",
    "- 6: **restingECG** - resting electrocardiographic results of the patient, represented as\n",
    "        - 0 = normal\n",
    "        - 1 = having ST-T wave abnormality\n",
    "        - 2 = showing probable or definitive left ventricular hypertropy by Estres' criteria\n",
    "- 7: **thalMaxRate** - Maximum heart rate achieved during the Thallium Stress Test\n",
    "- 8: **exAngina** - Presence of Excercise induced angina, represented as\n",
    "        - 0 = no\n",
    "        - 1 = yes\n",
    "- 9: **oldPeak** - ST depression induced by exercise relative to rest\n",
    "- 10: **slope** - The slope of the peak excercise ST segment, represented as\n",
    "        - 1 = uploping\n",
    "        - 2 = flat\n",
    "        - 3 = downsloping\n",
    "- 11: **ca** - Number of major vessels colored by flouroscopy (0~3)\n",
    "- 12: **thalTest** = The result of Thallium Stress Test, represented as\n",
    "        - 3 = normal\n",
    "        - 6 = fixed defect\n",
    "        - 7 = reversable defect\n",
    "- 13: **heartDisease** = Diagnosis of heart disease, represented as\n",
    "        - 0 = Does not have heart disease\n",
    "        - 1 = Does have heart disease"
   ]
  },
  {
   "cell_type": "markdown",
   "id": "e3529ab9",
   "metadata": {},
   "source": [
    "#### Types of features\n",
    "Since we have identified our dataset features, we can now classify them as numeric or categoric features based on the description of the data.\n",
    "\n",
    "- **Numeric Features:** `age`, `restingBP`, `cholestoral`, `thalMaxRate`, `oldPeak`, `ca`\n",
    "- **Categoric Features:** `sex`, `chestPain`, `fastingBloodSugar`, `restingECG`, `exAngina`, `slope`, `thalTest`, `heartDisease`\n",
    "\n",
    "#### Target Feature\n",
    "The target feature in the dataset for our machine learning is the `heartDisease` feature representing whether a patient has heart disease or not."
   ]
  },
  {
   "cell_type": "markdown",
   "id": "a913fb05",
   "metadata": {},
   "source": [
    "Now we can change our dataset column names using the following lines of code."
   ]
  },
  {
   "cell_type": "code",
   "execution_count": 5,
   "id": "5fb50ddb",
   "metadata": {},
   "outputs": [
    {
     "data": {
      "text/html": [
       "<div>\n",
       "<style scoped>\n",
       "    .dataframe tbody tr th:only-of-type {\n",
       "        vertical-align: middle;\n",
       "    }\n",
       "\n",
       "    .dataframe tbody tr th {\n",
       "        vertical-align: top;\n",
       "    }\n",
       "\n",
       "    .dataframe thead th {\n",
       "        text-align: right;\n",
       "    }\n",
       "</style>\n",
       "<table border=\"1\" class=\"dataframe\">\n",
       "  <thead>\n",
       "    <tr style=\"text-align: right;\">\n",
       "      <th></th>\n",
       "      <th>age</th>\n",
       "      <th>sex</th>\n",
       "      <th>chestPain</th>\n",
       "      <th>restingBP</th>\n",
       "      <th>cholestoral</th>\n",
       "      <th>fastingBloodSugar</th>\n",
       "      <th>restingECG</th>\n",
       "      <th>thalMaxRate</th>\n",
       "      <th>exAngina</th>\n",
       "      <th>oldPeak</th>\n",
       "      <th>slope</th>\n",
       "      <th>ca</th>\n",
       "      <th>thalTest</th>\n",
       "      <th>heartDisease</th>\n",
       "    </tr>\n",
       "  </thead>\n",
       "  <tbody>\n",
       "    <tr>\n",
       "      <th>0</th>\n",
       "      <td>63.0</td>\n",
       "      <td>1.0</td>\n",
       "      <td>1.0</td>\n",
       "      <td>145.0</td>\n",
       "      <td>233.0</td>\n",
       "      <td>1.0</td>\n",
       "      <td>2.0</td>\n",
       "      <td>150.0</td>\n",
       "      <td>0.0</td>\n",
       "      <td>2.3</td>\n",
       "      <td>3.0</td>\n",
       "      <td>0.0</td>\n",
       "      <td>6.0</td>\n",
       "      <td>0</td>\n",
       "    </tr>\n",
       "    <tr>\n",
       "      <th>1</th>\n",
       "      <td>67.0</td>\n",
       "      <td>1.0</td>\n",
       "      <td>4.0</td>\n",
       "      <td>160.0</td>\n",
       "      <td>286.0</td>\n",
       "      <td>0.0</td>\n",
       "      <td>2.0</td>\n",
       "      <td>108.0</td>\n",
       "      <td>1.0</td>\n",
       "      <td>1.5</td>\n",
       "      <td>2.0</td>\n",
       "      <td>3.0</td>\n",
       "      <td>3.0</td>\n",
       "      <td>2</td>\n",
       "    </tr>\n",
       "    <tr>\n",
       "      <th>2</th>\n",
       "      <td>67.0</td>\n",
       "      <td>1.0</td>\n",
       "      <td>4.0</td>\n",
       "      <td>120.0</td>\n",
       "      <td>229.0</td>\n",
       "      <td>0.0</td>\n",
       "      <td>2.0</td>\n",
       "      <td>129.0</td>\n",
       "      <td>1.0</td>\n",
       "      <td>2.6</td>\n",
       "      <td>2.0</td>\n",
       "      <td>2.0</td>\n",
       "      <td>7.0</td>\n",
       "      <td>1</td>\n",
       "    </tr>\n",
       "    <tr>\n",
       "      <th>3</th>\n",
       "      <td>37.0</td>\n",
       "      <td>1.0</td>\n",
       "      <td>3.0</td>\n",
       "      <td>130.0</td>\n",
       "      <td>250.0</td>\n",
       "      <td>0.0</td>\n",
       "      <td>0.0</td>\n",
       "      <td>187.0</td>\n",
       "      <td>0.0</td>\n",
       "      <td>3.5</td>\n",
       "      <td>3.0</td>\n",
       "      <td>0.0</td>\n",
       "      <td>3.0</td>\n",
       "      <td>0</td>\n",
       "    </tr>\n",
       "    <tr>\n",
       "      <th>4</th>\n",
       "      <td>41.0</td>\n",
       "      <td>0.0</td>\n",
       "      <td>2.0</td>\n",
       "      <td>130.0</td>\n",
       "      <td>204.0</td>\n",
       "      <td>0.0</td>\n",
       "      <td>2.0</td>\n",
       "      <td>172.0</td>\n",
       "      <td>0.0</td>\n",
       "      <td>1.4</td>\n",
       "      <td>1.0</td>\n",
       "      <td>0.0</td>\n",
       "      <td>3.0</td>\n",
       "      <td>0</td>\n",
       "    </tr>\n",
       "  </tbody>\n",
       "</table>\n",
       "</div>"
      ],
      "text/plain": [
       "    age  sex  chestPain  restingBP  cholestoral  fastingBloodSugar  \\\n",
       "0  63.0  1.0        1.0      145.0        233.0                1.0   \n",
       "1  67.0  1.0        4.0      160.0        286.0                0.0   \n",
       "2  67.0  1.0        4.0      120.0        229.0                0.0   \n",
       "3  37.0  1.0        3.0      130.0        250.0                0.0   \n",
       "4  41.0  0.0        2.0      130.0        204.0                0.0   \n",
       "\n",
       "   restingECG  thalMaxRate  exAngina  oldPeak  slope   ca thalTest  \\\n",
       "0         2.0        150.0       0.0      2.3    3.0  0.0      6.0   \n",
       "1         2.0        108.0       1.0      1.5    2.0  3.0      3.0   \n",
       "2         2.0        129.0       1.0      2.6    2.0  2.0      7.0   \n",
       "3         0.0        187.0       0.0      3.5    3.0  0.0      3.0   \n",
       "4         2.0        172.0       0.0      1.4    1.0  0.0      3.0   \n",
       "\n",
       "   heartDisease  \n",
       "0             0  \n",
       "1             2  \n",
       "2             1  \n",
       "3             0  \n",
       "4             0  "
      ]
     },
     "metadata": {},
     "output_type": "display_data"
    }
   ],
   "source": [
    "# Create a column names list\n",
    "column_names = [\"age\", \"sex\", \"chestPain\", \"restingBP\", \"cholestoral\", \"fastingBloodSugar\", \"restingECG\", \"thalMaxRate\", \"exAngina\", \"oldPeak\", \"slope\", \"ca\", \"thalTest\", \"heartDisease\"]\n",
    "\n",
    "# Set the column names in the dataframe\n",
    "df.columns = column_names\n",
    "\n",
    "# Display the result\n",
    "display(df.head())"
   ]
  },
  {
   "cell_type": "markdown",
   "id": "8f8c12fd",
   "metadata": {},
   "source": [
    "We have successfully changed our column names. Now we can proceed with data processing operations."
   ]
  },
  {
   "cell_type": "markdown",
   "id": "50d9f3df",
   "metadata": {},
   "source": [
    "### Identifying Missing Values"
   ]
  },
  {
   "cell_type": "markdown",
   "id": "4b41525c",
   "metadata": {},
   "source": [
    "One of the most crucial steps in data processing for machine learning is identifying and dealing with missing values. The process of identification and methods of dealing with the missing values vary from dataset to dataset, feature to feature.\n",
    "\n",
    "The very first step for finding missing values is to display the dataframe information and analyze them."
   ]
  },
  {
   "cell_type": "code",
   "execution_count": 6,
   "id": "b079bebe",
   "metadata": {},
   "outputs": [
    {
     "name": "stdout",
     "output_type": "stream",
     "text": [
      "<class 'pandas.core.frame.DataFrame'>\n",
      "RangeIndex: 303 entries, 0 to 302\n",
      "Data columns (total 14 columns):\n",
      " #   Column             Non-Null Count  Dtype  \n",
      "---  ------             --------------  -----  \n",
      " 0   age                303 non-null    float64\n",
      " 1   sex                303 non-null    float64\n",
      " 2   chestPain          303 non-null    float64\n",
      " 3   restingBP          303 non-null    float64\n",
      " 4   cholestoral        303 non-null    float64\n",
      " 5   fastingBloodSugar  303 non-null    float64\n",
      " 6   restingECG         303 non-null    float64\n",
      " 7   thalMaxRate        303 non-null    float64\n",
      " 8   exAngina           303 non-null    float64\n",
      " 9   oldPeak            303 non-null    float64\n",
      " 10  slope              303 non-null    float64\n",
      " 11  ca                 303 non-null    object \n",
      " 12  thalTest           303 non-null    object \n",
      " 13  heartDisease       303 non-null    int64  \n",
      "dtypes: float64(11), int64(1), object(2)\n",
      "memory usage: 33.3+ KB\n"
     ]
    }
   ],
   "source": [
    "# Display Dataframe Information\n",
    "df.info()"
   ]
  },
  {
   "cell_type": "markdown",
   "id": "48119bfa",
   "metadata": {},
   "source": [
    "We can see that among the 14 features present in our dataset, there are 12 features with numeric data types, and 2 features with object data type.\n",
    "\n",
    "But as we have already seen in the above section, all the data in our dataset are represented by numeric values, which means, in theory, all of the features in our data set should have been of numeric data types."
   ]
  },
  {
   "cell_type": "markdown",
   "id": "fb80a886",
   "metadata": {},
   "source": [
    "But as we can see, the **ca** and **thalTest** features are stored as object data type. This could happen if any or some of the data contained in those columns contain something other than numeric values. If that is the case, then those values will be considered as missing values."
   ]
  },
  {
   "cell_type": "markdown",
   "id": "51eee786",
   "metadata": {},
   "source": [
    "We can easily get an idea of all the data in these columns by displaying the unique values contained in the columns."
   ]
  },
  {
   "cell_type": "code",
   "execution_count": 7,
   "id": "208cec9e",
   "metadata": {},
   "outputs": [
    {
     "name": "stdout",
     "output_type": "stream",
     "text": [
      "Unique values in `ca` column:  ['0.0' '3.0' '2.0' '1.0' '?']\n",
      "Unique values in `thalTest` column:  ['6.0' '3.0' '7.0' '?']\n"
     ]
    }
   ],
   "source": [
    "# Display unique values in `ca` column\n",
    "print(\"Unique values in `ca` column: \", df['ca'].unique())\n",
    "\n",
    "# Display unique values in `thalTest` column\n",
    "print(\"Unique values in `thalTest` column: \", df['thalTest'].unique())"
   ]
  },
  {
   "cell_type": "markdown",
   "id": "0e696acf",
   "metadata": {},
   "source": [
    "As we can see above, along with numeric values as suggested in the dataset description above, these two columns contain some `?` values, which means that those are the missing values for that feature. As the `?` symbol is of character data type, the column datatype was changed to `object` datatype."
   ]
  },
  {
   "cell_type": "markdown",
   "id": "723b6aac",
   "metadata": {},
   "source": [
    "Let's find out how many rows contain missing values in these two columns."
   ]
  },
  {
   "cell_type": "code",
   "execution_count": 8,
   "id": "88332043",
   "metadata": {},
   "outputs": [
    {
     "data": {
      "text/plain": [
       "6"
      ]
     },
     "metadata": {},
     "output_type": "display_data"
    }
   ],
   "source": [
    "# Display rows containing `?` in the specified columns\n",
    "display(len(df.loc[\n",
    "    (df['ca'] == '?') | (df['thalTest'] == '?')\n",
    "]))"
   ]
  },
  {
   "cell_type": "markdown",
   "id": "3a8fee41",
   "metadata": {},
   "source": [
    "Now we can display these 6 rows containing the missing values."
   ]
  },
  {
   "cell_type": "code",
   "execution_count": 9,
   "id": "80558569",
   "metadata": {},
   "outputs": [
    {
     "data": {
      "text/html": [
       "<div>\n",
       "<style scoped>\n",
       "    .dataframe tbody tr th:only-of-type {\n",
       "        vertical-align: middle;\n",
       "    }\n",
       "\n",
       "    .dataframe tbody tr th {\n",
       "        vertical-align: top;\n",
       "    }\n",
       "\n",
       "    .dataframe thead th {\n",
       "        text-align: right;\n",
       "    }\n",
       "</style>\n",
       "<table border=\"1\" class=\"dataframe\">\n",
       "  <thead>\n",
       "    <tr style=\"text-align: right;\">\n",
       "      <th></th>\n",
       "      <th>age</th>\n",
       "      <th>sex</th>\n",
       "      <th>chestPain</th>\n",
       "      <th>restingBP</th>\n",
       "      <th>cholestoral</th>\n",
       "      <th>fastingBloodSugar</th>\n",
       "      <th>restingECG</th>\n",
       "      <th>thalMaxRate</th>\n",
       "      <th>exAngina</th>\n",
       "      <th>oldPeak</th>\n",
       "      <th>slope</th>\n",
       "      <th>ca</th>\n",
       "      <th>thalTest</th>\n",
       "      <th>heartDisease</th>\n",
       "    </tr>\n",
       "  </thead>\n",
       "  <tbody>\n",
       "    <tr>\n",
       "      <th>87</th>\n",
       "      <td>53.0</td>\n",
       "      <td>0.0</td>\n",
       "      <td>3.0</td>\n",
       "      <td>128.0</td>\n",
       "      <td>216.0</td>\n",
       "      <td>0.0</td>\n",
       "      <td>2.0</td>\n",
       "      <td>115.0</td>\n",
       "      <td>0.0</td>\n",
       "      <td>0.0</td>\n",
       "      <td>1.0</td>\n",
       "      <td>0.0</td>\n",
       "      <td>?</td>\n",
       "      <td>0</td>\n",
       "    </tr>\n",
       "    <tr>\n",
       "      <th>166</th>\n",
       "      <td>52.0</td>\n",
       "      <td>1.0</td>\n",
       "      <td>3.0</td>\n",
       "      <td>138.0</td>\n",
       "      <td>223.0</td>\n",
       "      <td>0.0</td>\n",
       "      <td>0.0</td>\n",
       "      <td>169.0</td>\n",
       "      <td>0.0</td>\n",
       "      <td>0.0</td>\n",
       "      <td>1.0</td>\n",
       "      <td>?</td>\n",
       "      <td>3.0</td>\n",
       "      <td>0</td>\n",
       "    </tr>\n",
       "    <tr>\n",
       "      <th>192</th>\n",
       "      <td>43.0</td>\n",
       "      <td>1.0</td>\n",
       "      <td>4.0</td>\n",
       "      <td>132.0</td>\n",
       "      <td>247.0</td>\n",
       "      <td>1.0</td>\n",
       "      <td>2.0</td>\n",
       "      <td>143.0</td>\n",
       "      <td>1.0</td>\n",
       "      <td>0.1</td>\n",
       "      <td>2.0</td>\n",
       "      <td>?</td>\n",
       "      <td>7.0</td>\n",
       "      <td>1</td>\n",
       "    </tr>\n",
       "    <tr>\n",
       "      <th>266</th>\n",
       "      <td>52.0</td>\n",
       "      <td>1.0</td>\n",
       "      <td>4.0</td>\n",
       "      <td>128.0</td>\n",
       "      <td>204.0</td>\n",
       "      <td>1.0</td>\n",
       "      <td>0.0</td>\n",
       "      <td>156.0</td>\n",
       "      <td>1.0</td>\n",
       "      <td>1.0</td>\n",
       "      <td>2.0</td>\n",
       "      <td>0.0</td>\n",
       "      <td>?</td>\n",
       "      <td>2</td>\n",
       "    </tr>\n",
       "    <tr>\n",
       "      <th>287</th>\n",
       "      <td>58.0</td>\n",
       "      <td>1.0</td>\n",
       "      <td>2.0</td>\n",
       "      <td>125.0</td>\n",
       "      <td>220.0</td>\n",
       "      <td>0.0</td>\n",
       "      <td>0.0</td>\n",
       "      <td>144.0</td>\n",
       "      <td>0.0</td>\n",
       "      <td>0.4</td>\n",
       "      <td>2.0</td>\n",
       "      <td>?</td>\n",
       "      <td>7.0</td>\n",
       "      <td>0</td>\n",
       "    </tr>\n",
       "    <tr>\n",
       "      <th>302</th>\n",
       "      <td>38.0</td>\n",
       "      <td>1.0</td>\n",
       "      <td>3.0</td>\n",
       "      <td>138.0</td>\n",
       "      <td>175.0</td>\n",
       "      <td>0.0</td>\n",
       "      <td>0.0</td>\n",
       "      <td>173.0</td>\n",
       "      <td>0.0</td>\n",
       "      <td>0.0</td>\n",
       "      <td>1.0</td>\n",
       "      <td>?</td>\n",
       "      <td>3.0</td>\n",
       "      <td>0</td>\n",
       "    </tr>\n",
       "  </tbody>\n",
       "</table>\n",
       "</div>"
      ],
      "text/plain": [
       "      age  sex  chestPain  restingBP  cholestoral  fastingBloodSugar  \\\n",
       "87   53.0  0.0        3.0      128.0        216.0                0.0   \n",
       "166  52.0  1.0        3.0      138.0        223.0                0.0   \n",
       "192  43.0  1.0        4.0      132.0        247.0                1.0   \n",
       "266  52.0  1.0        4.0      128.0        204.0                1.0   \n",
       "287  58.0  1.0        2.0      125.0        220.0                0.0   \n",
       "302  38.0  1.0        3.0      138.0        175.0                0.0   \n",
       "\n",
       "     restingECG  thalMaxRate  exAngina  oldPeak  slope   ca thalTest  \\\n",
       "87          2.0        115.0       0.0      0.0    1.0  0.0        ?   \n",
       "166         0.0        169.0       0.0      0.0    1.0    ?      3.0   \n",
       "192         2.0        143.0       1.0      0.1    2.0    ?      7.0   \n",
       "266         0.0        156.0       1.0      1.0    2.0  0.0        ?   \n",
       "287         0.0        144.0       0.0      0.4    2.0    ?      7.0   \n",
       "302         0.0        173.0       0.0      0.0    1.0    ?      3.0   \n",
       "\n",
       "     heartDisease  \n",
       "87              0  \n",
       "166             0  \n",
       "192             1  \n",
       "266             2  \n",
       "287             0  \n",
       "302             0  "
      ]
     },
     "metadata": {},
     "output_type": "display_data"
    }
   ],
   "source": [
    "# Display rows containing `?` in the specified columns\n",
    "display(df.loc[\n",
    "    (df['ca'] == '?') | (df['thalTest'] == '?')\n",
    "])"
   ]
  },
  {
   "cell_type": "markdown",
   "id": "4844a638",
   "metadata": {},
   "source": [
    "Although the dataframe info displayed above give us an idea that there aren't any more missing values present in the dataset, let's just be certain of that by checking the unique values in all the categorical feature columns and comparing them with the feature descriptions."
   ]
  },
  {
   "cell_type": "code",
   "execution_count": 10,
   "id": "ec9350e1",
   "metadata": {},
   "outputs": [
    {
     "name": "stdout",
     "output_type": "stream",
     "text": [
      "Unique values in the Categorical Feature Columns:\n",
      "sex :\t [1. 0.]\n",
      "chestPain :\t [1. 4. 3. 2.]\n",
      "fastingBloodSugar :\t [1. 0.]\n",
      "restingECG :\t [2. 0. 1.]\n",
      "exAngina :\t [0. 1.]\n",
      "slope :\t [3. 2. 1.]\n",
      "thalTest :\t ['6.0' '3.0' '7.0' '?']\n",
      "heartDisease :\t [0 2 1 3 4]\n"
     ]
    }
   ],
   "source": [
    "# List of Categorical Features\n",
    "categorical_features = [\"sex\", \"chestPain\", \"fastingBloodSugar\", \"restingECG\", \"exAngina\", \"slope\", \"thalTest\", \"heartDisease\"]\n",
    "\n",
    "# Display unique values in the categorical feature columns\n",
    "print(\"Unique values in the Categorical Feature Columns:\")\n",
    "for feature in categorical_features:\n",
    "    print(feature, \":\\t\", df[feature].unique())"
   ]
  },
  {
   "cell_type": "markdown",
   "id": "ffba3ff9",
   "metadata": {},
   "source": [
    "As we can see from above, all the feature columns, except for the `thalTest` column, contain values as prescribed in the feature descriptions. So we are now certain that we have identified all the missing values successfully."
   ]
  },
  {
   "cell_type": "markdown",
   "id": "36234a95",
   "metadata": {},
   "source": [
    "### Dealing with the Missing Values"
   ]
  },
  {
   "cell_type": "markdown",
   "id": "81d4f34b",
   "metadata": {},
   "source": [
    "Now that we have identified our missing values, it is time to deal with them. We can deal with these missing values beforehand in one of two ways - remove the missing values, or replace the missing values.\n",
    "\n",
    "The choice of way depends on the size of the dataset, number of missing values, types of missing values, importance of the missing values, type of analysis to be performed, and many other factors."
   ]
  },
  {
   "cell_type": "markdown",
   "id": "3bb4f04c",
   "metadata": {},
   "source": [
    "In our case, the dataset contains 303 observations, among which 6 observations have missing values. If we remove the incomplete observations, we will be left with 297 observations.\n",
    "\n",
    "As we are building a decision tree classifier, the number of 297 observations will not make any significant difference compared to the 303 observations. So, in this case, we can completely remove the observations with the missing values and move forward with only the complete observations."
   ]
  },
  {
   "cell_type": "markdown",
   "id": "f54aa0fa",
   "metadata": {},
   "source": [
    "Before removing our missing values, as a precaution, we will keep a backup of our current dataframe, and then remove the missing values from our dataframe. The following lines of code will do the job."
   ]
  },
  {
   "cell_type": "code",
   "execution_count": 11,
   "id": "1a81e7ca",
   "metadata": {},
   "outputs": [
    {
     "data": {
      "text/plain": [
       "(297, 14)"
      ]
     },
     "metadata": {},
     "output_type": "display_data"
    }
   ],
   "source": [
    "# Create Backup of the Dataframe\n",
    "df_bak = df.copy()\n",
    "\n",
    "# Remove missing values from `df`\n",
    "df = df.loc[\n",
    "            (df['ca'] != '?') & (df['thalTest'] != '?')\n",
    "            ]\n",
    "\n",
    "# Display the resulting dataframe shape\n",
    "display(df.shape)"
   ]
  },
  {
   "cell_type": "markdown",
   "id": "5f800a5e",
   "metadata": {},
   "source": [
    "We can see that our dataframe now contains 297 rows of observations which matches to the expected number of observations after removing the incomplete observations. But it doesn't hurt to be extra sure. So we can again display the unique values in our categorical feature columns, along with the unique values contained in the `ca` column to make sure that everyting matches our expectation."
   ]
  },
  {
   "cell_type": "code",
   "execution_count": 12,
   "id": "5b07276b",
   "metadata": {},
   "outputs": [
    {
     "name": "stdout",
     "output_type": "stream",
     "text": [
      "Unique values in the Categorical Feature Columns:\n",
      "sex :\t [1. 0.]\n",
      "chestPain :\t [1. 4. 3. 2.]\n",
      "fastingBloodSugar :\t [1. 0.]\n",
      "restingECG :\t [2. 0. 1.]\n",
      "exAngina :\t [0. 1.]\n",
      "slope :\t [3. 2. 1.]\n",
      "thalTest :\t ['6.0' '3.0' '7.0']\n",
      "heartDisease :\t [0 2 1 3 4]\n",
      "\n",
      "Unique values in the `ca` Column:  ['0.0' '3.0' '2.0' '1.0']\n"
     ]
    }
   ],
   "source": [
    "# Display unique values in the categorical feature columns\n",
    "print(\"Unique values in the Categorical Feature Columns:\")\n",
    "for feature in categorical_features:\n",
    "    print(feature, \":\\t\", df[feature].unique())\n",
    "\n",
    "# Display unique values in the `ca` column\n",
    "print(\"\\nUnique values in the `ca` Column: \", df[\"ca\"].unique())"
   ]
  },
  {
   "cell_type": "markdown",
   "id": "35819f3f",
   "metadata": {},
   "source": [
    "As we can see from above, all our feature column values are now similar to that expected as per the feature descriptions. But as we can see in the case of our target variable, the unique values are listed as 0 through 4.\n",
    "\n",
    "We will deal with this mismatch in the next section."
   ]
  },
  {
   "cell_type": "markdown",
   "id": "994d8767",
   "metadata": {},
   "source": [
    "### Cleaning the Target Variable"
   ]
  },
  {
   "cell_type": "markdown",
   "id": "94b8adfe",
   "metadata": {},
   "source": [
    "As stated in the last section, our target variable should contain only `0` and `1`, but it currently contains integer values from `0` to `4`. If we go through the dataset source page, we can see that this is not due to any error or missing values.\n",
    "\n",
    "The original data for this variable was classified as integers ranging from `0` to `4`. But for research purposes, the values used for this column are only `0` and `1` as mentioned in our feature descriptions above, with the modification to the values as\n",
    "- 0: for values = 0\n",
    "- 1: for values > 0"
   ]
  },
  {
   "cell_type": "markdown",
   "id": "f8a419b7",
   "metadata": {},
   "source": [
    "So, all we have to do now is filter the values in the `heartDisease` column that are *NOT `0`*, and replace them with the value `1`, and we will be good to go."
   ]
  },
  {
   "cell_type": "code",
   "execution_count": 13,
   "id": "2f54fcb4",
   "metadata": {},
   "outputs": [
    {
     "name": "stdout",
     "output_type": "stream",
     "text": [
      "0    160\n",
      "1     54\n",
      "2     35\n",
      "3     35\n",
      "4     13\n",
      "Name: heartDisease, dtype: int64\n"
     ]
    }
   ],
   "source": [
    "print(df[\"heartDisease\"].value_counts())"
   ]
  },
  {
   "cell_type": "code",
   "execution_count": 14,
   "id": "68fc17a6",
   "metadata": {},
   "outputs": [
    {
     "name": "stdout",
     "output_type": "stream",
     "text": [
      "Before Modification:\n",
      "0    160\n",
      "1     54\n",
      "2     35\n",
      "3     35\n",
      "4     13\n",
      "Name: heartDisease, dtype: int64\n",
      "After Modification:\n",
      "0    160\n",
      "1    137\n",
      "Name: heartDisease, dtype: int64\n"
     ]
    }
   ],
   "source": [
    "# Display the value counts in `heartDisease` column before Modification\n",
    "print(\"Before Modification:\")\n",
    "print(df[\"heartDisease\"].value_counts())\n",
    "\n",
    "# Replace values in the `heartDisease` column\n",
    "df[\"heartDisease\"][df[\"heartDisease\"] != 0] = 1\n",
    "\n",
    "# Display the value counts in `heartDisease` column after Modification\n",
    "print(\"After Modification:\")\n",
    "print(df[\"heartDisease\"].value_counts())"
   ]
  },
  {
   "cell_type": "markdown",
   "id": "bcde2caa",
   "metadata": {},
   "source": [
    "As we can see above, the number of observations before and after the modification remained unchanged for class `0`, whereas the value count for class `1` after modification has been changed to the sum of all the classes other than `0` before the modification.\n",
    "\n",
    "Hence, we can say that our modification was successfull and the data cleaning is complete."
   ]
  },
  {
   "cell_type": "markdown",
   "id": "7862010c",
   "metadata": {},
   "source": [
    "### Encoding the Categorical Features"
   ]
  },
  {
   "cell_type": "markdown",
   "id": "bba58b8d",
   "metadata": {},
   "source": [
    "\n",
    "The main purpose of encoding the categorical features is to convert text data into numeric data for the machine learning algorithm to be able to process them. But as we have seen already, all the categorical features in our dataset are already in numerical formats. So the question is, **how will we encode it?**"
   ]
  },
  {
   "cell_type": "markdown",
   "id": "a23fc155",
   "metadata": {},
   "source": [
    "The categorical features in our dataset are already encoded as numeric values in a format called the *Label Encoding*. In this encoding method, each of the unique values in the categorical feature is associated with an integer value and the integer value is stored in the dataframe instead of the actual value. But this gives rise to another problem: Continuity or Ranking."
   ]
  },
  {
   "cell_type": "markdown",
   "id": "54154990",
   "metadata": {},
   "source": [
    "As seen above, all the categorical features in our dataset are labeled sequentially using integer values. Despite us humans being able to understand them as individual and discrete representation of categoric values, the computer or, more specifically, the ML algorithm process them as continuous numeric values."
   ]
  },
  {
   "cell_type": "markdown",
   "id": "2972ad01",
   "metadata": {},
   "source": [
    "But where is the problem with that? As it happens, when these numbers are treated as continuous values, the values become mathematically related. So, if there were say 10 categories in a column numbered 0 through 9, a category labeled as 4 will be considered more similar and closer to the one numbered 1 than the one numbered 8. Also the value 9 will be treated with higher importance than the value 5, or even 8. In essence, there happens to be a ranking issue between the categories, even if there might not be any ranking or comparison between the actual categories."
   ]
  },
  {
   "cell_type": "markdown",
   "id": "f9185109",
   "metadata": {},
   "source": [
    "This problem can be eliminated by use of another encoding method called the **One-Hot Encoding**. In this method, each class in a category gets their own individual column, and the column values only contains `0`, or `1`. So, for any observation, the column respective to the class value of that observation will be given a value of `1`, and rest of the columns representing classes of that feature will get values of `0`.\n",
    "\n",
    "Although this process increases the number of columns or features significantly, especially when there are multiple categorical features and lots of unique classes in the individual features, as each of the classes get only values of 0 or 1, the classes are treated as equal and no ranking issue arises."
   ]
  },
  {
   "cell_type": "markdown",
   "id": "8605bd3b",
   "metadata": {},
   "source": [
    "The ranking between the observation value is a very important factor in the Decision Tree algorithm, and it can affect the classification result to a considerable extent. That's why we are going to encode all our categorical features using the One-Hot encoding method."
   ]
  },
  {
   "cell_type": "markdown",
   "id": "1263c485",
   "metadata": {},
   "source": [
    "But before the encoding, we need to consider another fact. As we mentioned that our One-Hot encoded columns will be given values of `0` and `1` only, we don't need to encode the categorical columns that already contains only the values of `0` and `1`. Hence, we will encode only those categorical columns that contain more than two unique values. This means that the features named `chestPain`, `restingECG`, `slope`, and `thalTest` will be the ones being encoded."
   ]
  },
  {
   "cell_type": "markdown",
   "id": "ffd0e232",
   "metadata": {},
   "source": [
    "We will be using the `pandas.get_dummies()` method for this purpose and pass the column names to be encoded as a list to the `columns` argument."
   ]
  },
  {
   "cell_type": "code",
   "execution_count": 15,
   "id": "4864dccb",
   "metadata": {},
   "outputs": [
    {
     "data": {
      "text/html": [
       "<div>\n",
       "<style scoped>\n",
       "    .dataframe tbody tr th:only-of-type {\n",
       "        vertical-align: middle;\n",
       "    }\n",
       "\n",
       "    .dataframe tbody tr th {\n",
       "        vertical-align: top;\n",
       "    }\n",
       "\n",
       "    .dataframe thead th {\n",
       "        text-align: right;\n",
       "    }\n",
       "</style>\n",
       "<table border=\"1\" class=\"dataframe\">\n",
       "  <thead>\n",
       "    <tr style=\"text-align: right;\">\n",
       "      <th></th>\n",
       "      <th>age</th>\n",
       "      <th>sex</th>\n",
       "      <th>restingBP</th>\n",
       "      <th>cholestoral</th>\n",
       "      <th>fastingBloodSugar</th>\n",
       "      <th>thalMaxRate</th>\n",
       "      <th>exAngina</th>\n",
       "      <th>oldPeak</th>\n",
       "      <th>ca</th>\n",
       "      <th>heartDisease</th>\n",
       "      <th>...</th>\n",
       "      <th>chestPain_4.0</th>\n",
       "      <th>restingECG_0.0</th>\n",
       "      <th>restingECG_1.0</th>\n",
       "      <th>restingECG_2.0</th>\n",
       "      <th>slope_1.0</th>\n",
       "      <th>slope_2.0</th>\n",
       "      <th>slope_3.0</th>\n",
       "      <th>thalTest_3.0</th>\n",
       "      <th>thalTest_6.0</th>\n",
       "      <th>thalTest_7.0</th>\n",
       "    </tr>\n",
       "  </thead>\n",
       "  <tbody>\n",
       "    <tr>\n",
       "      <th>0</th>\n",
       "      <td>63.0</td>\n",
       "      <td>1.0</td>\n",
       "      <td>145.0</td>\n",
       "      <td>233.0</td>\n",
       "      <td>1.0</td>\n",
       "      <td>150.0</td>\n",
       "      <td>0.0</td>\n",
       "      <td>2.3</td>\n",
       "      <td>0.0</td>\n",
       "      <td>0</td>\n",
       "      <td>...</td>\n",
       "      <td>0</td>\n",
       "      <td>0</td>\n",
       "      <td>0</td>\n",
       "      <td>1</td>\n",
       "      <td>0</td>\n",
       "      <td>0</td>\n",
       "      <td>1</td>\n",
       "      <td>0</td>\n",
       "      <td>1</td>\n",
       "      <td>0</td>\n",
       "    </tr>\n",
       "    <tr>\n",
       "      <th>1</th>\n",
       "      <td>67.0</td>\n",
       "      <td>1.0</td>\n",
       "      <td>160.0</td>\n",
       "      <td>286.0</td>\n",
       "      <td>0.0</td>\n",
       "      <td>108.0</td>\n",
       "      <td>1.0</td>\n",
       "      <td>1.5</td>\n",
       "      <td>3.0</td>\n",
       "      <td>1</td>\n",
       "      <td>...</td>\n",
       "      <td>1</td>\n",
       "      <td>0</td>\n",
       "      <td>0</td>\n",
       "      <td>1</td>\n",
       "      <td>0</td>\n",
       "      <td>1</td>\n",
       "      <td>0</td>\n",
       "      <td>1</td>\n",
       "      <td>0</td>\n",
       "      <td>0</td>\n",
       "    </tr>\n",
       "    <tr>\n",
       "      <th>2</th>\n",
       "      <td>67.0</td>\n",
       "      <td>1.0</td>\n",
       "      <td>120.0</td>\n",
       "      <td>229.0</td>\n",
       "      <td>0.0</td>\n",
       "      <td>129.0</td>\n",
       "      <td>1.0</td>\n",
       "      <td>2.6</td>\n",
       "      <td>2.0</td>\n",
       "      <td>1</td>\n",
       "      <td>...</td>\n",
       "      <td>1</td>\n",
       "      <td>0</td>\n",
       "      <td>0</td>\n",
       "      <td>1</td>\n",
       "      <td>0</td>\n",
       "      <td>1</td>\n",
       "      <td>0</td>\n",
       "      <td>0</td>\n",
       "      <td>0</td>\n",
       "      <td>1</td>\n",
       "    </tr>\n",
       "    <tr>\n",
       "      <th>3</th>\n",
       "      <td>37.0</td>\n",
       "      <td>1.0</td>\n",
       "      <td>130.0</td>\n",
       "      <td>250.0</td>\n",
       "      <td>0.0</td>\n",
       "      <td>187.0</td>\n",
       "      <td>0.0</td>\n",
       "      <td>3.5</td>\n",
       "      <td>0.0</td>\n",
       "      <td>0</td>\n",
       "      <td>...</td>\n",
       "      <td>0</td>\n",
       "      <td>1</td>\n",
       "      <td>0</td>\n",
       "      <td>0</td>\n",
       "      <td>0</td>\n",
       "      <td>0</td>\n",
       "      <td>1</td>\n",
       "      <td>1</td>\n",
       "      <td>0</td>\n",
       "      <td>0</td>\n",
       "    </tr>\n",
       "    <tr>\n",
       "      <th>4</th>\n",
       "      <td>41.0</td>\n",
       "      <td>0.0</td>\n",
       "      <td>130.0</td>\n",
       "      <td>204.0</td>\n",
       "      <td>0.0</td>\n",
       "      <td>172.0</td>\n",
       "      <td>0.0</td>\n",
       "      <td>1.4</td>\n",
       "      <td>0.0</td>\n",
       "      <td>0</td>\n",
       "      <td>...</td>\n",
       "      <td>0</td>\n",
       "      <td>0</td>\n",
       "      <td>0</td>\n",
       "      <td>1</td>\n",
       "      <td>1</td>\n",
       "      <td>0</td>\n",
       "      <td>0</td>\n",
       "      <td>1</td>\n",
       "      <td>0</td>\n",
       "      <td>0</td>\n",
       "    </tr>\n",
       "  </tbody>\n",
       "</table>\n",
       "<p>5 rows × 23 columns</p>\n",
       "</div>"
      ],
      "text/plain": [
       "    age  sex  restingBP  cholestoral  fastingBloodSugar  thalMaxRate  \\\n",
       "0  63.0  1.0      145.0        233.0                1.0        150.0   \n",
       "1  67.0  1.0      160.0        286.0                0.0        108.0   \n",
       "2  67.0  1.0      120.0        229.0                0.0        129.0   \n",
       "3  37.0  1.0      130.0        250.0                0.0        187.0   \n",
       "4  41.0  0.0      130.0        204.0                0.0        172.0   \n",
       "\n",
       "   exAngina  oldPeak   ca  heartDisease  ...  chestPain_4.0  restingECG_0.0  \\\n",
       "0       0.0      2.3  0.0             0  ...              0               0   \n",
       "1       1.0      1.5  3.0             1  ...              1               0   \n",
       "2       1.0      2.6  2.0             1  ...              1               0   \n",
       "3       0.0      3.5  0.0             0  ...              0               1   \n",
       "4       0.0      1.4  0.0             0  ...              0               0   \n",
       "\n",
       "   restingECG_1.0  restingECG_2.0  slope_1.0  slope_2.0  slope_3.0  \\\n",
       "0               0               1          0          0          1   \n",
       "1               0               1          0          1          0   \n",
       "2               0               1          0          1          0   \n",
       "3               0               0          0          0          1   \n",
       "4               0               1          1          0          0   \n",
       "\n",
       "   thalTest_3.0  thalTest_6.0  thalTest_7.0  \n",
       "0             0             1             0  \n",
       "1             1             0             0  \n",
       "2             0             0             1  \n",
       "3             1             0             0  \n",
       "4             1             0             0  \n",
       "\n",
       "[5 rows x 23 columns]"
      ]
     },
     "metadata": {},
     "output_type": "display_data"
    },
    {
     "data": {
      "text/plain": [
       "(297, 23)"
      ]
     },
     "metadata": {},
     "output_type": "display_data"
    }
   ],
   "source": [
    "# One-Hot Encode the categorical features\n",
    "df = pd.get_dummies(df, columns = [\"chestPain\", \"restingECG\", \"slope\", \"thalTest\"])\n",
    "\n",
    "# Display the result\n",
    "display(df.head())\n",
    "display(df.shape)"
   ]
  },
  {
   "cell_type": "markdown",
   "id": "330519d2",
   "metadata": {},
   "source": [
    "We can see that our dataframe now contains 297 observations, same as before. But the number of columns has changed from 14 to 23. This indicates that our last operation has introduced new columns into our dataframe.\n",
    "\n",
    "Let's display the column names and try to understand what actually happened."
   ]
  },
  {
   "cell_type": "code",
   "execution_count": 16,
   "id": "fd979523",
   "metadata": {},
   "outputs": [
    {
     "data": {
      "text/plain": [
       "Index(['age', 'sex', 'restingBP', 'cholestoral', 'fastingBloodSugar',\n",
       "       'thalMaxRate', 'exAngina', 'oldPeak', 'ca', 'heartDisease',\n",
       "       'chestPain_1.0', 'chestPain_2.0', 'chestPain_3.0', 'chestPain_4.0',\n",
       "       'restingECG_0.0', 'restingECG_1.0', 'restingECG_2.0', 'slope_1.0',\n",
       "       'slope_2.0', 'slope_3.0', 'thalTest_3.0', 'thalTest_6.0',\n",
       "       'thalTest_7.0'],\n",
       "      dtype='object')"
      ]
     },
     "metadata": {},
     "output_type": "display_data"
    }
   ],
   "source": [
    "# Display column names\n",
    "display(df.columns)"
   ]
  },
  {
   "cell_type": "markdown",
   "id": "1cc3007b",
   "metadata": {},
   "source": [
    "As we can see, the columns that we chose for One-Hot encoding have been removed from the dataframe, and some new columns have been added to the end of the datast with the column names set to a combination of the feature name and the class name connected by an `_` character.\n",
    "\n",
    "For example, the unique values in the `chestPain` column were the numbers `1.0` through `4.0`. We can see that this feature column has been divided into four individual columns named as `chestPain_1.0`, `chestPain_2.0`, `chestPain_3.0`, and `chestPain_4.0`. Similarly the other columns have also been divided into multiple columns."
   ]
  },
  {
   "cell_type": "markdown",
   "id": "5c0cf62c",
   "metadata": {},
   "source": [
    "Let's display some values from the new `chestPain_##` columns only and see what actually happened there."
   ]
  },
  {
   "cell_type": "code",
   "execution_count": 17,
   "id": "0372a50c",
   "metadata": {},
   "outputs": [
    {
     "data": {
      "text/html": [
       "<div>\n",
       "<style scoped>\n",
       "    .dataframe tbody tr th:only-of-type {\n",
       "        vertical-align: middle;\n",
       "    }\n",
       "\n",
       "    .dataframe tbody tr th {\n",
       "        vertical-align: top;\n",
       "    }\n",
       "\n",
       "    .dataframe thead th {\n",
       "        text-align: right;\n",
       "    }\n",
       "</style>\n",
       "<table border=\"1\" class=\"dataframe\">\n",
       "  <thead>\n",
       "    <tr style=\"text-align: right;\">\n",
       "      <th></th>\n",
       "      <th>chestPain_1.0</th>\n",
       "      <th>chestPain_2.0</th>\n",
       "      <th>chestPain_3.0</th>\n",
       "      <th>chestPain_4.0</th>\n",
       "    </tr>\n",
       "  </thead>\n",
       "  <tbody>\n",
       "    <tr>\n",
       "      <th>90</th>\n",
       "      <td>0</td>\n",
       "      <td>0</td>\n",
       "      <td>0</td>\n",
       "      <td>1</td>\n",
       "    </tr>\n",
       "    <tr>\n",
       "      <th>95</th>\n",
       "      <td>0</td>\n",
       "      <td>0</td>\n",
       "      <td>0</td>\n",
       "      <td>1</td>\n",
       "    </tr>\n",
       "    <tr>\n",
       "      <th>73</th>\n",
       "      <td>0</td>\n",
       "      <td>0</td>\n",
       "      <td>0</td>\n",
       "      <td>1</td>\n",
       "    </tr>\n",
       "    <tr>\n",
       "      <th>161</th>\n",
       "      <td>0</td>\n",
       "      <td>0</td>\n",
       "      <td>0</td>\n",
       "      <td>1</td>\n",
       "    </tr>\n",
       "    <tr>\n",
       "      <th>176</th>\n",
       "      <td>0</td>\n",
       "      <td>0</td>\n",
       "      <td>0</td>\n",
       "      <td>1</td>\n",
       "    </tr>\n",
       "    <tr>\n",
       "      <th>65</th>\n",
       "      <td>0</td>\n",
       "      <td>0</td>\n",
       "      <td>0</td>\n",
       "      <td>1</td>\n",
       "    </tr>\n",
       "    <tr>\n",
       "      <th>82</th>\n",
       "      <td>0</td>\n",
       "      <td>0</td>\n",
       "      <td>1</td>\n",
       "      <td>0</td>\n",
       "    </tr>\n",
       "    <tr>\n",
       "      <th>154</th>\n",
       "      <td>0</td>\n",
       "      <td>0</td>\n",
       "      <td>0</td>\n",
       "      <td>1</td>\n",
       "    </tr>\n",
       "    <tr>\n",
       "      <th>197</th>\n",
       "      <td>0</td>\n",
       "      <td>0</td>\n",
       "      <td>0</td>\n",
       "      <td>1</td>\n",
       "    </tr>\n",
       "    <tr>\n",
       "      <th>59</th>\n",
       "      <td>1</td>\n",
       "      <td>0</td>\n",
       "      <td>0</td>\n",
       "      <td>0</td>\n",
       "    </tr>\n",
       "  </tbody>\n",
       "</table>\n",
       "</div>"
      ],
      "text/plain": [
       "     chestPain_1.0  chestPain_2.0  chestPain_3.0  chestPain_4.0\n",
       "90               0              0              0              1\n",
       "95               0              0              0              1\n",
       "73               0              0              0              1\n",
       "161              0              0              0              1\n",
       "176              0              0              0              1\n",
       "65               0              0              0              1\n",
       "82               0              0              1              0\n",
       "154              0              0              0              1\n",
       "197              0              0              0              1\n",
       "59               1              0              0              0"
      ]
     },
     "metadata": {},
     "output_type": "display_data"
    }
   ],
   "source": [
    "# Display the new \"chestPain_##\" columns\n",
    "display(df[[\"chestPain_1.0\", \"chestPain_2.0\", \"chestPain_3.0\", \"chestPain_4.0\"]].sample(10))"
   ]
  },
  {
   "cell_type": "markdown",
   "id": "3332fbf8",
   "metadata": {},
   "source": [
    "It can be seen from above that the column values are set only to `0` and `1`. It may also be noted that for any particular observation, only one of the column values is `1`, and rest of the values are `0`. So we can conclude that our One-Hot encoding was successful."
   ]
  },
  {
   "cell_type": "markdown",
   "id": "75ddacd0",
   "metadata": {},
   "source": [
    "### Separate the Features and Target Variable"
   ]
  },
  {
   "cell_type": "markdown",
   "id": "437b868c",
   "metadata": {},
   "source": [
    "We have completed processing our data. We have also identified our features and the target variable. It is time to separate the features and the target variable into individual dataframes before proceeding into Machine Learning."
   ]
  },
  {
   "cell_type": "code",
   "execution_count": 18,
   "id": "67351dd2",
   "metadata": {},
   "outputs": [],
   "source": [
    "# Create the Features dataframe\n",
    "X = df.drop(columns = [\"heartDisease\"], axis = 1).copy()\n",
    "\n",
    "# Create the Target Dataframe\n",
    "y = df[[\"heartDisease\"]].copy()"
   ]
  },
  {
   "cell_type": "markdown",
   "id": "8f38ae11",
   "metadata": {},
   "source": [
    "Our dataset has now been separated into features and target variable."
   ]
  },
  {
   "cell_type": "markdown",
   "id": "dd9b3320",
   "metadata": {},
   "source": [
    "### Split the Data into Train Set and Test Set"
   ]
  },
  {
   "cell_type": "markdown",
   "id": "4fb9f0e5",
   "metadata": {},
   "source": [
    "The next step for building a ML model is to split the available data into training and test set. The basic concept is to use part of the available data for training the model and, after training, to use the rest of the data to test the trained model accuracy.\n",
    "<br>Usually the train set consists of 80% of the available data, and the test set consists of the rest 20% data. The splitting or sampling is done randomly so as to diversify the observations present in either the test set or the train set."
   ]
  },
  {
   "cell_type": "markdown",
   "id": "214d05d0",
   "metadata": {},
   "source": [
    "The splitting is done by using the `train_test_split()` function from `SciKit Learn`.\n",
    "A `random_state` value is provided to the function along with other arguments so that the randomization is fixed and the whole splitting process can be recreated later for comparison purposes. We will be providing `random_state = 47` as the function argument.\n",
    "We will also set the `stratify` argument to `True` so that the distribution of the classes of our target variable remain same in both the train and test sets."
   ]
  },
  {
   "cell_type": "code",
   "execution_count": 19,
   "id": "ef7f7e65",
   "metadata": {},
   "outputs": [
    {
     "name": "stdout",
     "output_type": "stream",
     "text": [
      "X_train shape:  (237, 22)\n",
      "y_train shape:  (237, 1)\n",
      "X_test shape:  (60, 22)\n",
      "y_test shape:  (60, 1)\n"
     ]
    }
   ],
   "source": [
    "# Split the Dataset\n",
    "X_train, X_test, y_train, y_test = train_test_split(X, y, test_size = 0.2, random_state = 47, stratify = y)\n",
    "\n",
    "# Display Split Data shapes\n",
    "print(\"X_train shape: \", X_train.shape)\n",
    "print(\"y_train shape: \", y_train.shape)\n",
    "print(\"X_test shape: \", X_test.shape)\n",
    "print(\"y_test shape: \", y_test.shape)"
   ]
  },
  {
   "cell_type": "markdown",
   "id": "a25ce812",
   "metadata": {},
   "source": [
    "### Train a Decision Tree Model"
   ]
  },
  {
   "cell_type": "markdown",
   "id": "d0ad4088",
   "metadata": {},
   "source": [
    "Now we will create a Desicion Tree model based on the train set data to predict wheter a patient has heart disease or not.\n",
    "\n",
    "We will first need to create an instance of the `DecisionTreeClassifier()` model in our environment, and then fit our training data to the model."
   ]
  },
  {
   "cell_type": "code",
   "execution_count": 20,
   "id": "c9bdfd47",
   "metadata": {},
   "outputs": [],
   "source": [
    "# Create a model instance\n",
    "model = DecisionTreeClassifier(random_state = 47)\n",
    "\n",
    "# Fit data to model\n",
    "model = model.fit(X_train, y_train)"
   ]
  },
  {
   "cell_type": "markdown",
   "id": "f58286a9",
   "metadata": {},
   "source": [
    "We have trained our model using our training data. Now we can see a diagram of the decision tree we've just made using the `plot_tree()` function from `SciKit Learn`."
   ]
  },
  {
   "cell_type": "code",
   "execution_count": 21,
   "id": "19a3ff9d",
   "metadata": {},
   "outputs": [
    {
     "data": {
      "image/png": "[encoded data removed]",
      "text/plain": [
       "<Figure size 1800x1080 with 1 Axes>"
      ]
     },
     "metadata": {
      "needs_background": "light"
     },
     "output_type": "display_data"
    }
   ],
   "source": [
    "# Plot the Tree Diagram\n",
    "plt.figure(figsize = (25,15))\n",
    "plot_tree(model,\n",
    "          filled = True,\n",
    "          rounded = True,\n",
    "          class_names = [\"No Heart Disease\", \"Has Heart Disease\"],\n",
    "          feature_names = X.columns\n",
    "         )\n",
    "\n",
    "# Show the plot\n",
    "plt.show()"
   ]
  },
  {
   "cell_type": "markdown",
   "id": "1e40f536",
   "metadata": {},
   "source": [
    "As we can see, we have ended up with a very large decision tree and the values in the tree are completely unreadable. We can use the `max_depth` parameter in the above function to plot only a small top portion of the tree."
   ]
  },
  {
   "cell_type": "code",
   "execution_count": 22,
   "id": "08e34c60",
   "metadata": {},
   "outputs": [
    {
     "data": {
      "image/png": "[encoded data removed]",
      "text/plain": [
       "<Figure size 1800x1080 with 1 Axes>"
      ]
     },
     "metadata": {
      "needs_background": "light"
     },
     "output_type": "display_data"
    }
   ],
   "source": [
    "# Plot the Tree Diagram\n",
    "plt.figure(figsize = (25,15))\n",
    "plot_tree(model,\n",
    "          filled = True,\n",
    "          rounded = True,\n",
    "          class_names = [\"No Heart Disease\", \"Has Heart Disease\"],\n",
    "          feature_names = X.columns,\n",
    "          max_depth = 2\n",
    "         )\n",
    "\n",
    "# Show the plot\n",
    "plt.show()"
   ]
  },
  {
   "cell_type": "markdown",
   "id": "d0be3d34",
   "metadata": {},
   "source": [
    "We can now see the tree values more clearly for the top part of the tree."
   ]
  },
  {
   "cell_type": "markdown",
   "id": "2d7e1ff8",
   "metadata": {},
   "source": [
    "### Predict Data using the Model"
   ]
  },
  {
   "cell_type": "markdown",
   "id": "def9cb10",
   "metadata": {},
   "source": [
    "We can now predict data from our model using the test dataset."
   ]
  },
  {
   "cell_type": "code",
   "execution_count": 23,
   "id": "4dd2927f",
   "metadata": {},
   "outputs": [],
   "source": [
    "# Predict from the test set features\n",
    "y_pred = model.predict(X_test)"
   ]
  },
  {
   "cell_type": "markdown",
   "id": "f3ebd765",
   "metadata": {},
   "source": [
    "### Evaluate Model Performance"
   ]
  },
  {
   "cell_type": "markdown",
   "id": "b93de034",
   "metadata": {},
   "source": [
    "We have created a model, trained it using our dataset, and seen a diagram of the resulting decision tree. The next step is to evaluate the model performacne based on different evaluation metrics available. Following are examples of some of the evaluation metrics."
   ]
  },
  {
   "cell_type": "markdown",
   "id": "4a4a374f",
   "metadata": {},
   "source": [
    "#### Confusion Matrix"
   ]
  },
  {
   "cell_type": "markdown",
   "id": "008a925a",
   "metadata": {},
   "source": [
    "A confusion matrix is an easy way to classify the correct and incorrect predicitons made by a model. It can be represented as both a matrix form or a graphical form. Below is a graphical representation of the confusion matrix for our model."
   ]
  },
  {
   "cell_type": "code",
   "execution_count": 24,
   "id": "e594ebb6",
   "metadata": {},
   "outputs": [
    {
     "data": {
      "image/png": "[encoded data removed]",
      "text/plain": [
       "<Figure size 432x288 with 2 Axes>"
      ]
     },
     "metadata": {
      "needs_background": "light"
     },
     "output_type": "display_data"
    }
   ],
   "source": [
    "plot_confusion_matrix(model,\n",
    "                      X_test,\n",
    "                      y_test,\n",
    "                      display_labels = [\"No Heart Disease\", \"Has Heart Disease\"],\n",
    "                     )\n",
    "\n",
    "plt.title(\"Confusion Matrix\")\n",
    "plt.show()"
   ]
  },
  {
   "cell_type": "markdown",
   "id": "f59f72ee",
   "metadata": {},
   "source": [
    "The confusion matrix for our model above shows that our model is being able to identify the patients with or without heart disease significantly well. The true positive and true negative values are significantly higher than the false positive and false negative values."
   ]
  },
  {
   "cell_type": "markdown",
   "id": "c6f40fbf",
   "metadata": {},
   "source": [
    "#### Classification Report"
   ]
  },
  {
   "cell_type": "markdown",
   "id": "f86e045e",
   "metadata": {},
   "source": [
    "An easy way to determine the most common evaluation metrics from a model is to generate the classification report. It can be done by using the `classification_report()` command available in `sciKit Learn`."
   ]
  },
  {
   "cell_type": "code",
   "execution_count": 25,
   "id": "e9e2cb08",
   "metadata": {},
   "outputs": [
    {
     "name": "stdout",
     "output_type": "stream",
     "text": [
      "Classification Report:\n",
      "              precision    recall  f1-score   support\n",
      "\n",
      "           0       0.82      0.84      0.83        32\n",
      "           1       0.81      0.79      0.80        28\n",
      "\n",
      "    accuracy                           0.82        60\n",
      "   macro avg       0.82      0.81      0.82        60\n",
      "weighted avg       0.82      0.82      0.82        60\n",
      "\n"
     ]
    }
   ],
   "source": [
    "# Generate and siaplay the classification report\n",
    "class_report = classification_report(y_test, y_pred)\n",
    "print(\"Classification Report:\")\n",
    "print(class_report)"
   ]
  },
  {
   "cell_type": "markdown",
   "id": "ba2539c8",
   "metadata": {},
   "source": [
    "The classification report presented above gives us a quick overview of the model performance. We can see from the report above that the precision, recall and the f1-score values are around 80%, which means the model is performing very well on the test dataset."
   ]
  },
  {
   "cell_type": "markdown",
   "id": "7dfbd39f",
   "metadata": {},
   "source": [
    "#### ROC Curve and ROC-AUC Score"
   ]
  },
  {
   "cell_type": "markdown",
   "id": "efce5224",
   "metadata": {},
   "source": [
    "ROC curve is a visual representation of a model's performance at different classification thresholds. The AUC value is a numerical representation of the model's performance.\n",
    "\n",
    "The ROC and AUC for our model can be determined as follows."
   ]
  },
  {
   "cell_type": "code",
   "execution_count": 26,
   "id": "ebbd45ae",
   "metadata": {},
   "outputs": [
    {
     "data": {
      "image/png": "[encoded data removed]",
      "text/plain": [
       "<Figure size 576x576 with 1 Axes>"
      ]
     },
     "metadata": {
      "needs_background": "light"
     },
     "output_type": "display_data"
    }
   ],
   "source": [
    "# Get the prediction probabilites\n",
    "y_pred_proba = model.predict_proba(X_test)[:,1]\n",
    "\n",
    "# Generate the ROC values\n",
    "fpr, tpr, thr = roc_curve(y_test, y_pred_proba)\n",
    "\n",
    "# Evaluate AUC value\n",
    "auc = np.round(roc_auc_score(y_test, y_pred), 3)\n",
    "\n",
    "# Plot the ROC Curve\n",
    "plt.figure(figsize=(8, 8))\n",
    "plt.plot(fpr, \n",
    "         tpr, \n",
    "         color='green', \n",
    "         lw=2, \n",
    "         label=\"Curve Area = \" +str(auc))\n",
    "\n",
    "plt.plot([0, 1], [0, 1], color='blue', lw=2, linestyle='--')\n",
    "plt.xlabel('False Positive Rate (FPR)')\n",
    "plt.ylabel('True Positive Rate (TPR)')\n",
    "plt.title('ROC curve')\n",
    "plt.legend(loc=\"lower right\")\n",
    "plt.show()"
   ]
  },
  {
   "cell_type": "markdown",
   "id": "b37400fd",
   "metadata": {},
   "source": [
    "The ROC curve above shows that the model will perform best when the TPR or Recall value of the model is just near to 80% and the FPR value will be around 16%. The AUC value is 0.815, which is very good considering our preliminary model."
   ]
  },
  {
   "cell_type": "markdown",
   "id": "fded18fe",
   "metadata": {},
   "source": [
    "All the precision metrics shown above indicates that our preliminary decision tree classifier is performing significantly well. But there are still scopes to improve the model performance by tweaking different hyperparameter values.\n",
    "\n",
    "Although the preliminary model performance is proven satisfactory, optimizations should be made for achieving better performance from the model."
   ]
  }
 ],
 "metadata": {
  "kernelspec": {
   "display_name": "Python 3",
   "language": "python",
   "name": "python3"
  },
  "language_info": {
   "codemirror_mode": {
    "name": "ipython",
    "version": 3
   },
   "file_extension": ".py",
   "mimetype": "text/x-python",
   "name": "python",
   "nbconvert_exporter": "python",
   "pygments_lexer": "ipython3",
   "version": "3.8.8"
  }
 },
 "nbformat": 4,
 "nbformat_minor": 5
}
